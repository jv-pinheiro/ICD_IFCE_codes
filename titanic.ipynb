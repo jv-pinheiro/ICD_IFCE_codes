{
 "cells": [
  {
   "cell_type": "markdown",
   "id": "b40a3476-725f-43ee-b5e1-3331c5a889a4",
   "metadata": {},
   "source": [
    "<h2 style=\"text-align:center\">Base de Dados - Titanic</h2>"
   ]
  },
  {
   "cell_type": "markdown",
   "id": "080f28a3-121c-4957-855f-87e585d46c56",
   "metadata": {},
   "source": [
    "### Testes e Manipulações"
   ]
  },
  {
   "cell_type": "code",
   "execution_count": 1,
   "id": "896c170b-b294-49c6-8fbf-fb59d5bbbd31",
   "metadata": {},
   "outputs": [
    {
     "name": "stdout",
     "output_type": "stream",
     "text": [
      "<class 'pandas.core.frame.DataFrame'>\n",
      "RangeIndex: 891 entries, 0 to 890\n",
      "Data columns (total 12 columns):\n",
      " #   Column       Non-Null Count  Dtype \n",
      "---  ------       --------------  ----- \n",
      " 0   PassengerId  891 non-null    int64 \n",
      " 1   Survived     891 non-null    int64 \n",
      " 2   Pclass       891 non-null    int64 \n",
      " 3   Name         891 non-null    object\n",
      " 4   Sex          891 non-null    object\n",
      " 5   Age          714 non-null    object\n",
      " 6   SibSp        891 non-null    int64 \n",
      " 7   Parch        891 non-null    int64 \n",
      " 8   Ticket       891 non-null    object\n",
      " 9   Fare         891 non-null    object\n",
      " 10  Cabin        204 non-null    object\n",
      " 11  Embarked     889 non-null    object\n",
      "dtypes: int64(5), object(7)\n",
      "memory usage: 83.7+ KB\n"
     ]
    }
   ],
   "source": [
    "import pandas as pd\n",
    "\n",
    "#Criação do dataframe a partir da base Titanic em .xlsx\n",
    "df = pd.read_excel('Titanic.xlsx')\n",
    "df.info()"
   ]
  },
  {
   "cell_type": "code",
   "execution_count": 2,
   "id": "312796d1-3f29-42bc-ad64-33694b5929e0",
   "metadata": {},
   "outputs": [
    {
     "data": {
      "text/html": [
       "<div>\n",
       "<style scoped>\n",
       "    .dataframe tbody tr th:only-of-type {\n",
       "        vertical-align: middle;\n",
       "    }\n",
       "\n",
       "    .dataframe tbody tr th {\n",
       "        vertical-align: top;\n",
       "    }\n",
       "\n",
       "    .dataframe thead th {\n",
       "        text-align: right;\n",
       "    }\n",
       "</style>\n",
       "<table border=\"1\" class=\"dataframe\">\n",
       "  <thead>\n",
       "    <tr style=\"text-align: right;\">\n",
       "      <th></th>\n",
       "      <th>IdPassageiro</th>\n",
       "      <th>Sobreviveu</th>\n",
       "      <th>Classe</th>\n",
       "      <th>Nome</th>\n",
       "      <th>Sexo</th>\n",
       "      <th>Idade</th>\n",
       "      <th>ImãosConjuge</th>\n",
       "      <th>PaisFilhos</th>\n",
       "      <th>Bilhete</th>\n",
       "      <th>Tarifa</th>\n",
       "      <th>Cabine</th>\n",
       "      <th>PortãoEmbarque</th>\n",
       "    </tr>\n",
       "  </thead>\n",
       "  <tbody>\n",
       "    <tr>\n",
       "      <th>0</th>\n",
       "      <td>1</td>\n",
       "      <td>0</td>\n",
       "      <td>3</td>\n",
       "      <td>Braund, Mr. Owen Harris</td>\n",
       "      <td>male</td>\n",
       "      <td>22</td>\n",
       "      <td>1</td>\n",
       "      <td>0</td>\n",
       "      <td>A/5 21171</td>\n",
       "      <td>7.25</td>\n",
       "      <td>NaN</td>\n",
       "      <td>S</td>\n",
       "    </tr>\n",
       "    <tr>\n",
       "      <th>1</th>\n",
       "      <td>2</td>\n",
       "      <td>1</td>\n",
       "      <td>1</td>\n",
       "      <td>Cumings, Mrs. John Bradley (Florence Briggs Th...</td>\n",
       "      <td>female</td>\n",
       "      <td>38</td>\n",
       "      <td>1</td>\n",
       "      <td>0</td>\n",
       "      <td>PC 17599</td>\n",
       "      <td>712833</td>\n",
       "      <td>C85</td>\n",
       "      <td>C</td>\n",
       "    </tr>\n",
       "    <tr>\n",
       "      <th>2</th>\n",
       "      <td>3</td>\n",
       "      <td>1</td>\n",
       "      <td>3</td>\n",
       "      <td>Heikkinen, Miss. Laina</td>\n",
       "      <td>female</td>\n",
       "      <td>26</td>\n",
       "      <td>0</td>\n",
       "      <td>0</td>\n",
       "      <td>STON/O2. 3101282</td>\n",
       "      <td>7925</td>\n",
       "      <td>NaN</td>\n",
       "      <td>S</td>\n",
       "    </tr>\n",
       "    <tr>\n",
       "      <th>3</th>\n",
       "      <td>4</td>\n",
       "      <td>1</td>\n",
       "      <td>1</td>\n",
       "      <td>Futrelle, Mrs. Jacques Heath (Lily May Peel)</td>\n",
       "      <td>female</td>\n",
       "      <td>35</td>\n",
       "      <td>1</td>\n",
       "      <td>0</td>\n",
       "      <td>113803</td>\n",
       "      <td>53.1</td>\n",
       "      <td>C123</td>\n",
       "      <td>S</td>\n",
       "    </tr>\n",
       "    <tr>\n",
       "      <th>4</th>\n",
       "      <td>5</td>\n",
       "      <td>0</td>\n",
       "      <td>3</td>\n",
       "      <td>Allen, Mr. William Henry</td>\n",
       "      <td>male</td>\n",
       "      <td>35</td>\n",
       "      <td>0</td>\n",
       "      <td>0</td>\n",
       "      <td>373450</td>\n",
       "      <td>2025-05-08 00:00:00</td>\n",
       "      <td>NaN</td>\n",
       "      <td>S</td>\n",
       "    </tr>\n",
       "    <tr>\n",
       "      <th>...</th>\n",
       "      <td>...</td>\n",
       "      <td>...</td>\n",
       "      <td>...</td>\n",
       "      <td>...</td>\n",
       "      <td>...</td>\n",
       "      <td>...</td>\n",
       "      <td>...</td>\n",
       "      <td>...</td>\n",
       "      <td>...</td>\n",
       "      <td>...</td>\n",
       "      <td>...</td>\n",
       "      <td>...</td>\n",
       "    </tr>\n",
       "    <tr>\n",
       "      <th>886</th>\n",
       "      <td>887</td>\n",
       "      <td>0</td>\n",
       "      <td>2</td>\n",
       "      <td>Montvila, Rev. Juozas</td>\n",
       "      <td>male</td>\n",
       "      <td>27</td>\n",
       "      <td>0</td>\n",
       "      <td>0</td>\n",
       "      <td>211536</td>\n",
       "      <td>13</td>\n",
       "      <td>NaN</td>\n",
       "      <td>S</td>\n",
       "    </tr>\n",
       "    <tr>\n",
       "      <th>887</th>\n",
       "      <td>888</td>\n",
       "      <td>1</td>\n",
       "      <td>1</td>\n",
       "      <td>Graham, Miss. Margaret Edith</td>\n",
       "      <td>female</td>\n",
       "      <td>19</td>\n",
       "      <td>0</td>\n",
       "      <td>0</td>\n",
       "      <td>112053</td>\n",
       "      <td>30</td>\n",
       "      <td>B42</td>\n",
       "      <td>S</td>\n",
       "    </tr>\n",
       "    <tr>\n",
       "      <th>888</th>\n",
       "      <td>889</td>\n",
       "      <td>0</td>\n",
       "      <td>3</td>\n",
       "      <td>Johnston, Miss. Catherine Helen \"Carrie\"</td>\n",
       "      <td>female</td>\n",
       "      <td>NaN</td>\n",
       "      <td>1</td>\n",
       "      <td>2</td>\n",
       "      <td>W./C. 6607</td>\n",
       "      <td>23.45</td>\n",
       "      <td>NaN</td>\n",
       "      <td>S</td>\n",
       "    </tr>\n",
       "    <tr>\n",
       "      <th>889</th>\n",
       "      <td>890</td>\n",
       "      <td>1</td>\n",
       "      <td>1</td>\n",
       "      <td>Behr, Mr. Karl Howell</td>\n",
       "      <td>male</td>\n",
       "      <td>26</td>\n",
       "      <td>0</td>\n",
       "      <td>0</td>\n",
       "      <td>111369</td>\n",
       "      <td>30</td>\n",
       "      <td>C148</td>\n",
       "      <td>C</td>\n",
       "    </tr>\n",
       "    <tr>\n",
       "      <th>890</th>\n",
       "      <td>891</td>\n",
       "      <td>0</td>\n",
       "      <td>3</td>\n",
       "      <td>Dooley, Mr. Patrick</td>\n",
       "      <td>male</td>\n",
       "      <td>32</td>\n",
       "      <td>0</td>\n",
       "      <td>0</td>\n",
       "      <td>370376</td>\n",
       "      <td>7.75</td>\n",
       "      <td>NaN</td>\n",
       "      <td>Q</td>\n",
       "    </tr>\n",
       "  </tbody>\n",
       "</table>\n",
       "<p>891 rows × 12 columns</p>\n",
       "</div>"
      ],
      "text/plain": [
       "     IdPassageiro  Sobreviveu  Classe  \\\n",
       "0               1           0       3   \n",
       "1               2           1       1   \n",
       "2               3           1       3   \n",
       "3               4           1       1   \n",
       "4               5           0       3   \n",
       "..            ...         ...     ...   \n",
       "886           887           0       2   \n",
       "887           888           1       1   \n",
       "888           889           0       3   \n",
       "889           890           1       1   \n",
       "890           891           0       3   \n",
       "\n",
       "                                                  Nome    Sexo Idade  \\\n",
       "0                              Braund, Mr. Owen Harris    male    22   \n",
       "1    Cumings, Mrs. John Bradley (Florence Briggs Th...  female    38   \n",
       "2                               Heikkinen, Miss. Laina  female    26   \n",
       "3         Futrelle, Mrs. Jacques Heath (Lily May Peel)  female    35   \n",
       "4                             Allen, Mr. William Henry    male    35   \n",
       "..                                                 ...     ...   ...   \n",
       "886                              Montvila, Rev. Juozas    male    27   \n",
       "887                       Graham, Miss. Margaret Edith  female    19   \n",
       "888           Johnston, Miss. Catherine Helen \"Carrie\"  female   NaN   \n",
       "889                              Behr, Mr. Karl Howell    male    26   \n",
       "890                                Dooley, Mr. Patrick    male    32   \n",
       "\n",
       "     ImãosConjuge  PaisFilhos           Bilhete               Tarifa Cabine  \\\n",
       "0               1           0         A/5 21171                 7.25    NaN   \n",
       "1               1           0          PC 17599               712833    C85   \n",
       "2               0           0  STON/O2. 3101282                 7925    NaN   \n",
       "3               1           0            113803                 53.1   C123   \n",
       "4               0           0            373450  2025-05-08 00:00:00    NaN   \n",
       "..            ...         ...               ...                  ...    ...   \n",
       "886             0           0            211536                   13    NaN   \n",
       "887             0           0            112053                   30    B42   \n",
       "888             1           2        W./C. 6607                23.45    NaN   \n",
       "889             0           0            111369                   30   C148   \n",
       "890             0           0            370376                 7.75    NaN   \n",
       "\n",
       "    PortãoEmbarque  \n",
       "0                S  \n",
       "1                C  \n",
       "2                S  \n",
       "3                S  \n",
       "4                S  \n",
       "..             ...  \n",
       "886              S  \n",
       "887              S  \n",
       "888              S  \n",
       "889              C  \n",
       "890              Q  \n",
       "\n",
       "[891 rows x 12 columns]"
      ]
     },
     "execution_count": 2,
     "metadata": {},
     "output_type": "execute_result"
    }
   ],
   "source": [
    "#Mudança do nome das colunas\n",
    "df.columns=['IdPassageiro', 'Sobreviveu', 'Classe', 'Nome', 'Sexo', 'Idade', 'ImãosConjuge', 'PaisFilhos', 'Bilhete', 'Tarifa', 'Cabine', 'PortãoEmbarque']\n",
    "df"
   ]
  },
  {
   "cell_type": "code",
   "execution_count": 3,
   "id": "87774f0e-bac7-4fa6-9391-21ce175abf72",
   "metadata": {},
   "outputs": [
    {
     "data": {
      "text/html": [
       "<div>\n",
       "<style scoped>\n",
       "    .dataframe tbody tr th:only-of-type {\n",
       "        vertical-align: middle;\n",
       "    }\n",
       "\n",
       "    .dataframe tbody tr th {\n",
       "        vertical-align: top;\n",
       "    }\n",
       "\n",
       "    .dataframe thead th {\n",
       "        text-align: right;\n",
       "    }\n",
       "</style>\n",
       "<table border=\"1\" class=\"dataframe\">\n",
       "  <thead>\n",
       "    <tr style=\"text-align: right;\">\n",
       "      <th></th>\n",
       "      <th>IdPassageiro</th>\n",
       "      <th>Sobreviveu</th>\n",
       "      <th>Classe</th>\n",
       "      <th>Nome</th>\n",
       "      <th>Sexo</th>\n",
       "      <th>Idade</th>\n",
       "      <th>ImãosConjuge</th>\n",
       "      <th>PaisFilhos</th>\n",
       "      <th>Bilhete</th>\n",
       "      <th>Tarifa</th>\n",
       "      <th>Cabine</th>\n",
       "      <th>PortãoEmbarque</th>\n",
       "    </tr>\n",
       "  </thead>\n",
       "  <tbody>\n",
       "    <tr>\n",
       "      <th>0</th>\n",
       "      <td>1</td>\n",
       "      <td>Não</td>\n",
       "      <td>3ª Classe</td>\n",
       "      <td>Braund, Mr. Owen Harris</td>\n",
       "      <td>Masculino</td>\n",
       "      <td>22</td>\n",
       "      <td>1</td>\n",
       "      <td>0</td>\n",
       "      <td>A/5 21171</td>\n",
       "      <td>7.25</td>\n",
       "      <td>NaN</td>\n",
       "      <td>Southampton</td>\n",
       "    </tr>\n",
       "    <tr>\n",
       "      <th>1</th>\n",
       "      <td>2</td>\n",
       "      <td>Sim</td>\n",
       "      <td>1ª Classe</td>\n",
       "      <td>Cumings, Mrs. John Bradley (Florence Briggs Th...</td>\n",
       "      <td>Feminino</td>\n",
       "      <td>38</td>\n",
       "      <td>1</td>\n",
       "      <td>0</td>\n",
       "      <td>PC 17599</td>\n",
       "      <td>712833</td>\n",
       "      <td>C85</td>\n",
       "      <td>Cherbourg</td>\n",
       "    </tr>\n",
       "    <tr>\n",
       "      <th>2</th>\n",
       "      <td>3</td>\n",
       "      <td>Sim</td>\n",
       "      <td>3ª Classe</td>\n",
       "      <td>Heikkinen, Miss. Laina</td>\n",
       "      <td>Feminino</td>\n",
       "      <td>26</td>\n",
       "      <td>0</td>\n",
       "      <td>0</td>\n",
       "      <td>STON/O2. 3101282</td>\n",
       "      <td>7925</td>\n",
       "      <td>NaN</td>\n",
       "      <td>Southampton</td>\n",
       "    </tr>\n",
       "    <tr>\n",
       "      <th>3</th>\n",
       "      <td>4</td>\n",
       "      <td>Sim</td>\n",
       "      <td>1ª Classe</td>\n",
       "      <td>Futrelle, Mrs. Jacques Heath (Lily May Peel)</td>\n",
       "      <td>Feminino</td>\n",
       "      <td>35</td>\n",
       "      <td>1</td>\n",
       "      <td>0</td>\n",
       "      <td>113803</td>\n",
       "      <td>53.1</td>\n",
       "      <td>C123</td>\n",
       "      <td>Southampton</td>\n",
       "    </tr>\n",
       "    <tr>\n",
       "      <th>4</th>\n",
       "      <td>5</td>\n",
       "      <td>Não</td>\n",
       "      <td>3ª Classe</td>\n",
       "      <td>Allen, Mr. William Henry</td>\n",
       "      <td>Masculino</td>\n",
       "      <td>35</td>\n",
       "      <td>0</td>\n",
       "      <td>0</td>\n",
       "      <td>373450</td>\n",
       "      <td>2025-05-08 00:00:00</td>\n",
       "      <td>NaN</td>\n",
       "      <td>Southampton</td>\n",
       "    </tr>\n",
       "    <tr>\n",
       "      <th>...</th>\n",
       "      <td>...</td>\n",
       "      <td>...</td>\n",
       "      <td>...</td>\n",
       "      <td>...</td>\n",
       "      <td>...</td>\n",
       "      <td>...</td>\n",
       "      <td>...</td>\n",
       "      <td>...</td>\n",
       "      <td>...</td>\n",
       "      <td>...</td>\n",
       "      <td>...</td>\n",
       "      <td>...</td>\n",
       "    </tr>\n",
       "    <tr>\n",
       "      <th>886</th>\n",
       "      <td>887</td>\n",
       "      <td>Não</td>\n",
       "      <td>2ª Classe</td>\n",
       "      <td>Montvila, Rev. Juozas</td>\n",
       "      <td>Masculino</td>\n",
       "      <td>27</td>\n",
       "      <td>0</td>\n",
       "      <td>0</td>\n",
       "      <td>211536</td>\n",
       "      <td>13</td>\n",
       "      <td>NaN</td>\n",
       "      <td>Southampton</td>\n",
       "    </tr>\n",
       "    <tr>\n",
       "      <th>887</th>\n",
       "      <td>888</td>\n",
       "      <td>Sim</td>\n",
       "      <td>1ª Classe</td>\n",
       "      <td>Graham, Miss. Margaret Edith</td>\n",
       "      <td>Feminino</td>\n",
       "      <td>19</td>\n",
       "      <td>0</td>\n",
       "      <td>0</td>\n",
       "      <td>112053</td>\n",
       "      <td>30</td>\n",
       "      <td>B42</td>\n",
       "      <td>Southampton</td>\n",
       "    </tr>\n",
       "    <tr>\n",
       "      <th>888</th>\n",
       "      <td>889</td>\n",
       "      <td>Não</td>\n",
       "      <td>3ª Classe</td>\n",
       "      <td>Johnston, Miss. Catherine Helen \"Carrie\"</td>\n",
       "      <td>Feminino</td>\n",
       "      <td>NaN</td>\n",
       "      <td>1</td>\n",
       "      <td>2</td>\n",
       "      <td>W./C. 6607</td>\n",
       "      <td>23.45</td>\n",
       "      <td>NaN</td>\n",
       "      <td>Southampton</td>\n",
       "    </tr>\n",
       "    <tr>\n",
       "      <th>889</th>\n",
       "      <td>890</td>\n",
       "      <td>Sim</td>\n",
       "      <td>1ª Classe</td>\n",
       "      <td>Behr, Mr. Karl Howell</td>\n",
       "      <td>Masculino</td>\n",
       "      <td>26</td>\n",
       "      <td>0</td>\n",
       "      <td>0</td>\n",
       "      <td>111369</td>\n",
       "      <td>30</td>\n",
       "      <td>C148</td>\n",
       "      <td>Cherbourg</td>\n",
       "    </tr>\n",
       "    <tr>\n",
       "      <th>890</th>\n",
       "      <td>891</td>\n",
       "      <td>Não</td>\n",
       "      <td>3ª Classe</td>\n",
       "      <td>Dooley, Mr. Patrick</td>\n",
       "      <td>Masculino</td>\n",
       "      <td>32</td>\n",
       "      <td>0</td>\n",
       "      <td>0</td>\n",
       "      <td>370376</td>\n",
       "      <td>7.75</td>\n",
       "      <td>NaN</td>\n",
       "      <td>Queenstown</td>\n",
       "    </tr>\n",
       "  </tbody>\n",
       "</table>\n",
       "<p>891 rows × 12 columns</p>\n",
       "</div>"
      ],
      "text/plain": [
       "     IdPassageiro Sobreviveu     Classe  \\\n",
       "0               1        Não  3ª Classe   \n",
       "1               2        Sim  1ª Classe   \n",
       "2               3        Sim  3ª Classe   \n",
       "3               4        Sim  1ª Classe   \n",
       "4               5        Não  3ª Classe   \n",
       "..            ...        ...        ...   \n",
       "886           887        Não  2ª Classe   \n",
       "887           888        Sim  1ª Classe   \n",
       "888           889        Não  3ª Classe   \n",
       "889           890        Sim  1ª Classe   \n",
       "890           891        Não  3ª Classe   \n",
       "\n",
       "                                                  Nome       Sexo Idade  \\\n",
       "0                              Braund, Mr. Owen Harris  Masculino    22   \n",
       "1    Cumings, Mrs. John Bradley (Florence Briggs Th...   Feminino    38   \n",
       "2                               Heikkinen, Miss. Laina   Feminino    26   \n",
       "3         Futrelle, Mrs. Jacques Heath (Lily May Peel)   Feminino    35   \n",
       "4                             Allen, Mr. William Henry  Masculino    35   \n",
       "..                                                 ...        ...   ...   \n",
       "886                              Montvila, Rev. Juozas  Masculino    27   \n",
       "887                       Graham, Miss. Margaret Edith   Feminino    19   \n",
       "888           Johnston, Miss. Catherine Helen \"Carrie\"   Feminino   NaN   \n",
       "889                              Behr, Mr. Karl Howell  Masculino    26   \n",
       "890                                Dooley, Mr. Patrick  Masculino    32   \n",
       "\n",
       "     ImãosConjuge  PaisFilhos           Bilhete               Tarifa Cabine  \\\n",
       "0               1           0         A/5 21171                 7.25    NaN   \n",
       "1               1           0          PC 17599               712833    C85   \n",
       "2               0           0  STON/O2. 3101282                 7925    NaN   \n",
       "3               1           0            113803                 53.1   C123   \n",
       "4               0           0            373450  2025-05-08 00:00:00    NaN   \n",
       "..            ...         ...               ...                  ...    ...   \n",
       "886             0           0            211536                   13    NaN   \n",
       "887             0           0            112053                   30    B42   \n",
       "888             1           2        W./C. 6607                23.45    NaN   \n",
       "889             0           0            111369                   30   C148   \n",
       "890             0           0            370376                 7.75    NaN   \n",
       "\n",
       "    PortãoEmbarque  \n",
       "0      Southampton  \n",
       "1        Cherbourg  \n",
       "2      Southampton  \n",
       "3      Southampton  \n",
       "4      Southampton  \n",
       "..             ...  \n",
       "886    Southampton  \n",
       "887    Southampton  \n",
       "888    Southampton  \n",
       "889      Cherbourg  \n",
       "890     Queenstown  \n",
       "\n",
       "[891 rows x 12 columns]"
      ]
     },
     "execution_count": 3,
     "metadata": {},
     "output_type": "execute_result"
    }
   ],
   "source": [
    "#Ajustes nos dados das colunas \"Sexo\", \"PortãoEmbarque\", \"Sobreviveu\" e \"Classe\"\n",
    "df['Sexo'] = df['Sexo'].replace({'male':'Masculino','female':'Feminino'})\n",
    "df['PortãoEmbarque'] = df['PortãoEmbarque'].replace({'C' : 'Cherbourg','Q':'Queenstown','S':'Southampton'})\n",
    "df['Sobreviveu'] = df['Sobreviveu'].replace({0:'Não',1:'Sim'})\n",
    "df['Classe'] = df['Classe'].replace({1:'1ª Classe',2:'2ª Classe',3:'3ª Classe'})\n",
    "df"
   ]
  },
  {
   "cell_type": "code",
   "execution_count": 4,
   "id": "5e67587a-f49d-4536-a779-a6950b3f57d7",
   "metadata": {},
   "outputs": [
    {
     "name": "stdout",
     "output_type": "stream",
     "text": [
      "<class 'pandas.core.frame.DataFrame'>\n",
      "RangeIndex: 891 entries, 0 to 890\n",
      "Data columns (total 12 columns):\n",
      " #   Column          Non-Null Count  Dtype \n",
      "---  ------          --------------  ----- \n",
      " 0   IdPassageiro    891 non-null    int64 \n",
      " 1   Sobreviveu      891 non-null    object\n",
      " 2   Classe          891 non-null    object\n",
      " 3   Nome            891 non-null    object\n",
      " 4   Sexo            891 non-null    object\n",
      " 5   Idade           714 non-null    object\n",
      " 6   ImãosConjuge    891 non-null    int64 \n",
      " 7   PaisFilhos      891 non-null    int64 \n",
      " 8   Bilhete         891 non-null    object\n",
      " 9   Tarifa          891 non-null    object\n",
      " 10  Cabine          204 non-null    object\n",
      " 11  PortãoEmbarque  889 non-null    object\n",
      "dtypes: int64(3), object(9)\n",
      "memory usage: 83.7+ KB\n"
     ]
    }
   ],
   "source": [
    "#Detalhes da base após mudanças\n",
    "df.info()"
   ]
  },
  {
   "cell_type": "code",
   "execution_count": 5,
   "id": "e69dcff1-4b6f-4a91-a82c-e653a0551a6f",
   "metadata": {},
   "outputs": [
    {
     "data": {
      "text/plain": [
       "IdPassageiro        0\n",
       "Sobreviveu          0\n",
       "Classe              0\n",
       "Nome                0\n",
       "Sexo                0\n",
       "Idade             177\n",
       "ImãosConjuge        0\n",
       "PaisFilhos          0\n",
       "Bilhete             0\n",
       "Tarifa              0\n",
       "Cabine            687\n",
       "PortãoEmbarque      2\n",
       "dtype: int64"
      ]
     },
     "execution_count": 5,
     "metadata": {},
     "output_type": "execute_result"
    }
   ],
   "source": [
    "#df['Sex'].value_counts()\n",
    "#df['Cabin'].isnull().sum()\n",
    "#df.describe(include='O')\n",
    "#df['Age'].isnull().sum()\n",
    "\n",
    "#Verificação do número de valores nulos nas colunas\n",
    "df.isnull().sum()"
   ]
  },
  {
   "cell_type": "code",
   "execution_count": 6,
   "id": "0d2a3911-4bda-4eda-ae3e-4fc960985667",
   "metadata": {},
   "outputs": [
    {
     "data": {
      "text/html": [
       "<div>\n",
       "<style scoped>\n",
       "    .dataframe tbody tr th:only-of-type {\n",
       "        vertical-align: middle;\n",
       "    }\n",
       "\n",
       "    .dataframe tbody tr th {\n",
       "        vertical-align: top;\n",
       "    }\n",
       "\n",
       "    .dataframe thead th {\n",
       "        text-align: right;\n",
       "    }\n",
       "</style>\n",
       "<table border=\"1\" class=\"dataframe\">\n",
       "  <thead>\n",
       "    <tr style=\"text-align: right;\">\n",
       "      <th></th>\n",
       "      <th>IdPassageiro</th>\n",
       "      <th>Sobreviveu</th>\n",
       "      <th>Classe</th>\n",
       "      <th>Nome</th>\n",
       "      <th>Sexo</th>\n",
       "      <th>Idade</th>\n",
       "      <th>ImãosConjuge</th>\n",
       "      <th>PaisFilhos</th>\n",
       "      <th>Bilhete</th>\n",
       "      <th>Tarifa</th>\n",
       "      <th>Cabine</th>\n",
       "      <th>PortãoEmbarque</th>\n",
       "    </tr>\n",
       "  </thead>\n",
       "  <tbody>\n",
       "    <tr>\n",
       "      <th>61</th>\n",
       "      <td>62</td>\n",
       "      <td>Sim</td>\n",
       "      <td>1ª Classe</td>\n",
       "      <td>Icard, Miss. Amelie</td>\n",
       "      <td>Feminino</td>\n",
       "      <td>38</td>\n",
       "      <td>0</td>\n",
       "      <td>0</td>\n",
       "      <td>113572</td>\n",
       "      <td>80</td>\n",
       "      <td>B28</td>\n",
       "      <td>NaN</td>\n",
       "    </tr>\n",
       "    <tr>\n",
       "      <th>829</th>\n",
       "      <td>830</td>\n",
       "      <td>Sim</td>\n",
       "      <td>1ª Classe</td>\n",
       "      <td>Stone, Mrs. George Nelson (Martha Evelyn)</td>\n",
       "      <td>Feminino</td>\n",
       "      <td>62</td>\n",
       "      <td>0</td>\n",
       "      <td>0</td>\n",
       "      <td>113572</td>\n",
       "      <td>80</td>\n",
       "      <td>B28</td>\n",
       "      <td>NaN</td>\n",
       "    </tr>\n",
       "  </tbody>\n",
       "</table>\n",
       "</div>"
      ],
      "text/plain": [
       "     IdPassageiro Sobreviveu     Classe  \\\n",
       "61             62        Sim  1ª Classe   \n",
       "829           830        Sim  1ª Classe   \n",
       "\n",
       "                                          Nome      Sexo Idade  ImãosConjuge  \\\n",
       "61                         Icard, Miss. Amelie  Feminino    38             0   \n",
       "829  Stone, Mrs. George Nelson (Martha Evelyn)  Feminino    62             0   \n",
       "\n",
       "     PaisFilhos Bilhete Tarifa Cabine PortãoEmbarque  \n",
       "61            0  113572     80    B28            NaN  \n",
       "829           0  113572     80    B28            NaN  "
      ]
     },
     "execution_count": 6,
     "metadata": {},
     "output_type": "execute_result"
    }
   ],
   "source": [
    "#Filtro para pegar linhas em que há valores nulos na coluna \"PortãoEmbarque\"\n",
    "df.loc[df['PortãoEmbarque'].isnull()]"
   ]
  },
  {
   "cell_type": "code",
   "execution_count": 7,
   "id": "206292bb-0fac-4a81-952e-79b1a1d370bd",
   "metadata": {},
   "outputs": [
    {
     "data": {
      "text/plain": [
       "array(['Southampton', 'Cherbourg', 'Queenstown', nan], dtype=object)"
      ]
     },
     "execution_count": 7,
     "metadata": {},
     "output_type": "execute_result"
    }
   ],
   "source": [
    "#Filtro para pegar valores únicos na coluna \"PortãoEmbarque\"\n",
    "df['PortãoEmbarque'].unique()"
   ]
  },
  {
   "cell_type": "code",
   "execution_count": 8,
   "id": "fecad58d-4c22-49a0-ab05-8bc847007e4e",
   "metadata": {},
   "outputs": [
    {
     "data": {
      "text/plain": [
       "0    Southampton\n",
       "Name: PortãoEmbarque, dtype: object"
      ]
     },
     "execution_count": 8,
     "metadata": {},
     "output_type": "execute_result"
    }
   ],
   "source": [
    "#Cálculo da moda na coluna \"PortãoEmbarque\"\n",
    "df['PortãoEmbarque'].mode()"
   ]
  },
  {
   "cell_type": "code",
   "execution_count": 9,
   "id": "14b8eb13-8621-4260-9b9f-5c79035cf025",
   "metadata": {},
   "outputs": [
    {
     "data": {
      "text/html": [
       "<div>\n",
       "<style scoped>\n",
       "    .dataframe tbody tr th:only-of-type {\n",
       "        vertical-align: middle;\n",
       "    }\n",
       "\n",
       "    .dataframe tbody tr th {\n",
       "        vertical-align: top;\n",
       "    }\n",
       "\n",
       "    .dataframe thead th {\n",
       "        text-align: right;\n",
       "    }\n",
       "</style>\n",
       "<table border=\"1\" class=\"dataframe\">\n",
       "  <thead>\n",
       "    <tr style=\"text-align: right;\">\n",
       "      <th></th>\n",
       "      <th>Sobreviveu</th>\n",
       "      <th>Classe</th>\n",
       "      <th>Nome</th>\n",
       "      <th>Sexo</th>\n",
       "      <th>Idade</th>\n",
       "      <th>Bilhete</th>\n",
       "      <th>Tarifa</th>\n",
       "      <th>Cabine</th>\n",
       "      <th>PortãoEmbarque</th>\n",
       "    </tr>\n",
       "  </thead>\n",
       "  <tbody>\n",
       "    <tr>\n",
       "      <th>count</th>\n",
       "      <td>891</td>\n",
       "      <td>891</td>\n",
       "      <td>891</td>\n",
       "      <td>891</td>\n",
       "      <td>714</td>\n",
       "      <td>891</td>\n",
       "      <td>891</td>\n",
       "      <td>204</td>\n",
       "      <td>889</td>\n",
       "    </tr>\n",
       "    <tr>\n",
       "      <th>unique</th>\n",
       "      <td>2</td>\n",
       "      <td>3</td>\n",
       "      <td>891</td>\n",
       "      <td>2</td>\n",
       "      <td>88</td>\n",
       "      <td>681</td>\n",
       "      <td>247</td>\n",
       "      <td>147</td>\n",
       "      <td>3</td>\n",
       "    </tr>\n",
       "    <tr>\n",
       "      <th>top</th>\n",
       "      <td>Não</td>\n",
       "      <td>3ª Classe</td>\n",
       "      <td>Braund, Mr. Owen Harris</td>\n",
       "      <td>Masculino</td>\n",
       "      <td>24</td>\n",
       "      <td>347082</td>\n",
       "      <td>2025-05-08 00:00:00</td>\n",
       "      <td>B96 B98</td>\n",
       "      <td>Southampton</td>\n",
       "    </tr>\n",
       "    <tr>\n",
       "      <th>freq</th>\n",
       "      <td>549</td>\n",
       "      <td>491</td>\n",
       "      <td>1</td>\n",
       "      <td>577</td>\n",
       "      <td>30</td>\n",
       "      <td>7</td>\n",
       "      <td>43</td>\n",
       "      <td>4</td>\n",
       "      <td>644</td>\n",
       "    </tr>\n",
       "  </tbody>\n",
       "</table>\n",
       "</div>"
      ],
      "text/plain": [
       "       Sobreviveu     Classe                     Nome       Sexo  Idade  \\\n",
       "count         891        891                      891        891    714   \n",
       "unique          2          3                      891          2     88   \n",
       "top           Não  3ª Classe  Braund, Mr. Owen Harris  Masculino     24   \n",
       "freq          549        491                        1        577     30   \n",
       "\n",
       "        Bilhete               Tarifa   Cabine PortãoEmbarque  \n",
       "count       891                  891      204            889  \n",
       "unique      681                  247      147              3  \n",
       "top      347082  2025-05-08 00:00:00  B96 B98    Southampton  \n",
       "freq          7                   43        4            644  "
      ]
     },
     "execution_count": 9,
     "metadata": {},
     "output_type": "execute_result"
    }
   ],
   "source": [
    "#Descrição das colunas com dtype Object do dataframe\n",
    "df.describe(include='O')"
   ]
  },
  {
   "cell_type": "code",
   "execution_count": 10,
   "id": "34dbc8e8-2f27-4f24-b963-17a73de7476c",
   "metadata": {},
   "outputs": [
    {
     "data": {
      "text/plain": [
       "Sobreviveu\n",
       "Não    0.616162\n",
       "Sim    0.383838\n",
       "Name: proportion, dtype: float64"
      ]
     },
     "execution_count": 10,
     "metadata": {},
     "output_type": "execute_result"
    }
   ],
   "source": [
    "#Distribuição dos valores na coluna \"Sobreviveu\". Soma é igual a 1.\n",
    "df['Sobreviveu'].value_counts(normalize=True)"
   ]
  },
  {
   "cell_type": "markdown",
   "id": "760f852d-4340-437b-9816-db6e6ad01b3f",
   "metadata": {},
   "source": [
    "### Desafio"
   ]
  },
  {
   "cell_type": "code",
   "execution_count": 11,
   "id": "e22088b6-b92f-4033-aee5-cd6768d7f804",
   "metadata": {},
   "outputs": [
    {
     "name": "stdout",
     "output_type": "stream",
     "text": [
      "Valores ausentes em Idade:\n",
      "177\n",
      "\n",
      "Distribuição da variável 'Sobreviveu':\n",
      "Sobreviveu\n",
      "Não    0.616162\n",
      "Sim    0.383838\n",
      "Name: proportion, dtype: float64\n"
     ]
    }
   ],
   "source": [
    "#Quantos valores faltantes existem na variável Idade?\n",
    "print(f\"Valores ausentes em Idade:\")\n",
    "print(df['Idade'].isnull().sum())\n",
    "\n",
    "#Distribuição dos valores da coluna 'Sobreviveu'\n",
    "print(\"\\nDistribuição da variável 'Sobreviveu':\")\n",
    "print(df['Sobreviveu'].value_counts(normalize=True))"
   ]
  },
  {
   "cell_type": "code",
   "execution_count": 12,
   "id": "0a09cbdc-df87-4cd6-b58e-2581a75f6e69",
   "metadata": {},
   "outputs": [],
   "source": [
    "#Criação de uma cópia da base Titanic\n",
    "Titanic_original = df.copy()"
   ]
  },
  {
   "cell_type": "code",
   "execution_count": 13,
   "id": "845104d4-e5da-4609-9155-50fb271373fd",
   "metadata": {},
   "outputs": [],
   "source": [
    "#Tratamento de valores inválidos como numérico e transforma em NaN\n",
    "df['Idade'] = pd.to_numeric(df['Idade'], errors='coerce')\n",
    "\n",
    "#Imputação Inteligente (professor): mediana da idade por Sexo e Classe\n",
    "medianas = df.groupby(['Sexo', 'Classe'])['Idade'].median()\n",
    "\n",
    "##Função retorna mediana se vazio, se não continua valor primário\n",
    "def mediana_idade_SexoClasse(row):\n",
    "    if pd.isnull(row['Idade']):\n",
    "        return medianas.loc[row['Sexo'], row['Classe']]\n",
    "    else:\n",
    "        return row['Idade']\n",
    "\n",
    "#Aplica a função a cada linha (row)\n",
    "df['Idade'] = df.apply(mediana_idade_SexoClasse, axis=1)"
   ]
  },
  {
   "cell_type": "code",
   "execution_count": 14,
   "id": "fe64f18b-58d5-487f-a5af-b94ca46c508e",
   "metadata": {},
   "outputs": [
    {
     "data": {
      "text/plain": [
       "Sexo       Classe   \n",
       "Feminino   1ª Classe    35.0\n",
       "           2ª Classe    28.0\n",
       "           3ª Classe    21.5\n",
       "Masculino  1ª Classe    40.0\n",
       "           2ª Classe    30.0\n",
       "           3ª Classe    25.0\n",
       "Name: Idade, dtype: float64"
      ]
     },
     "execution_count": 14,
     "metadata": {},
     "output_type": "execute_result"
    }
   ],
   "source": [
    "#Verificação das medianas calculadas\n",
    "medianas"
   ]
  },
  {
   "cell_type": "code",
   "execution_count": 15,
   "id": "2c191afd-f7b3-4dbf-918b-514abd35b4b6",
   "metadata": {},
   "outputs": [
    {
     "data": {
      "text/plain": [
       "28.0"
      ]
     },
     "execution_count": 15,
     "metadata": {},
     "output_type": "execute_result"
    }
   ],
   "source": [
    "#Exemplo da coleta da mediana\n",
    "medianas.loc['Feminino', '2ª Classe']"
   ]
  },
  {
   "cell_type": "code",
   "execution_count": 16,
   "id": "14906eff-d426-4b36-82af-bd5a49bbae8a",
   "metadata": {},
   "outputs": [
    {
     "data": {
      "text/plain": [
       "IdPassageiro        0\n",
       "Sobreviveu          0\n",
       "Classe              0\n",
       "Nome                0\n",
       "Sexo                0\n",
       "Idade             177\n",
       "ImãosConjuge        0\n",
       "PaisFilhos          0\n",
       "Bilhete             0\n",
       "Tarifa              0\n",
       "Cabine            687\n",
       "PortãoEmbarque      2\n",
       "dtype: int64"
      ]
     },
     "execution_count": 16,
     "metadata": {},
     "output_type": "execute_result"
    }
   ],
   "source": [
    "#Verificação de valores nulos da tabela original\n",
    "Titanic_original.isnull().sum()"
   ]
  },
  {
   "cell_type": "code",
   "execution_count": 17,
   "id": "0f66e15b-34c3-43b3-bd8b-a38602f03d59",
   "metadata": {},
   "outputs": [
    {
     "data": {
      "text/plain": [
       "IdPassageiro        0\n",
       "Sobreviveu          0\n",
       "Classe              0\n",
       "Nome                0\n",
       "Sexo                0\n",
       "Idade               0\n",
       "ImãosConjuge        0\n",
       "PaisFilhos          0\n",
       "Bilhete             0\n",
       "Tarifa              0\n",
       "Cabine            687\n",
       "PortãoEmbarque      2\n",
       "dtype: int64"
      ]
     },
     "execution_count": 17,
     "metadata": {},
     "output_type": "execute_result"
    }
   ],
   "source": [
    "#Verificação da tabela após imputação\n",
    "df.isnull().sum()"
   ]
  },
  {
   "cell_type": "code",
   "execution_count": 18,
   "id": "64726f0b-b68b-4943-9d50-0b512eb2c5ca",
   "metadata": {},
   "outputs": [],
   "source": [
    "#Declaração da tabela sem mudança para a variável df2\n",
    "df2 = Titanic_original.copy()\n",
    "\n",
    "#Tratamento de valores inválidos como numérico e transforma em NaN\n",
    "df2['Idade'] = pd.to_numeric(df2['Idade'], errors='coerce')\n",
    "\n",
    "#Imputação Inteligente (professor): mediana da idade por Sexo\n",
    "medianas_por_sexo = df2.groupby('Sexo')['Idade'].median()\n",
    "\n",
    "#Função retorna mediana se vazio, se não continua valor primário\n",
    "def mediana_idade_sexo(row):\n",
    "    if pd.isnull(row['Idade']):\n",
    "        return medianas_por_sexo[row['Sexo']]\n",
    "    return row['Idade']\n",
    "\n",
    "#Aplica função a cada linha (row)\n",
    "df2['Idade'] = df.apply(mediana_idade_sexo, axis=1)"
   ]
  },
  {
   "cell_type": "code",
   "execution_count": 19,
   "id": "44040ce8-a4b0-47dc-8c06-155cb6d8c1c4",
   "metadata": {},
   "outputs": [
    {
     "data": {
      "text/plain": [
       "Sexo\n",
       "Feminino     27.0\n",
       "Masculino    29.0\n",
       "Name: Idade, dtype: float64"
      ]
     },
     "execution_count": 19,
     "metadata": {},
     "output_type": "execute_result"
    }
   ],
   "source": [
    "#Verificação das medianas calculadas\n",
    "medianas_por_sexo"
   ]
  },
  {
   "cell_type": "code",
   "execution_count": 20,
   "id": "f353a5d3-849c-4b34-80bf-69fc4660bf6a",
   "metadata": {},
   "outputs": [],
   "source": [
    "#Declaração da tabela sem mudança para a variável df3\n",
    "df3 = Titanic_original.copy()\n",
    "\n",
    "#Tratamento de valores inválidos como numérico e transforma em NaN\n",
    "df3['Idade'] = pd.to_numeric(df3['Idade'], errors='coerce')\n",
    "\n",
    "#Cálculo da média por classe\n",
    "medias_classe = df3.groupby('Classe')['Idade'].mean()\n",
    "\n",
    "#Função retorna média se vazio, se não continua valor primário\n",
    "def media_idade_classe(row):\n",
    "    if pd.isnull(row['Idade']):\n",
    "        return medias_por_classe[row['Classe']]\n",
    "    return row['Idade']\n",
    "\n",
    "#Aplica função a cada linha (row)\n",
    "df3['Idade'] = df.apply(media_idade_classe, axis=1)"
   ]
  },
  {
   "cell_type": "code",
   "execution_count": 21,
   "id": "a5a811e9-18a6-436e-a1d3-abf52972ce6a",
   "metadata": {},
   "outputs": [
    {
     "data": {
      "text/plain": [
       "Classe\n",
       "1ª Classe    38.233441\n",
       "2ª Classe    29.877630\n",
       "3ª Classe    25.140980\n",
       "Name: Idade, dtype: float64"
      ]
     },
     "execution_count": 21,
     "metadata": {},
     "output_type": "execute_result"
    }
   ],
   "source": [
    "#Verificação do cálculo das médias\n",
    "medias_classe"
   ]
  },
  {
   "cell_type": "code",
   "execution_count": 22,
   "id": "837c65d4-5ec0-4750-8747-0f3a1d8cb389",
   "metadata": {},
   "outputs": [
    {
     "data": {
      "image/png": "[encoded data removed]",
      "text/plain": [
       "<Figure size 1400x1000 with 4 Axes>"
      ]
     },
     "metadata": {},
     "output_type": "display_data"
    }
   ],
   "source": [
    "#GRÁFICOS PARA COMPARAÇÃO DA DISTRIBUIÇÃO DA COLUNA \"IDADE\" MEDIANTE MUDANÇAS\n",
    "import matplotlib.pyplot as plt\n",
    "\n",
    "#Tratamento de valores inválidos como numérico e transforma em NaN\n",
    "Titanic_original['Idade'] = pd.to_numeric(Titanic_original['Idade'], errors='coerce')\n",
    "\n",
    "#Definição do tamanho do gráfico\n",
    "plt.figure(figsize=(14, 10))\n",
    "\n",
    "# Gráfico 1: Original\n",
    "plt.subplot(2, 2, 1)\n",
    "Titanic_original['Idade'].hist(bins=100, color='skyblue')\n",
    "plt.title('Distribuição original de Idade')\n",
    "plt.xlabel('Idade')\n",
    "plt.ylabel('Frequência')\n",
    "\n",
    "# Gráfico 2: Mediana por Sexo e Classe\n",
    "plt.subplot(2, 2, 2)\n",
    "df['Idade'].hist(bins=100, color='lightgreen')\n",
    "plt.title('Idade - Mediana por Sexo e Classe')\n",
    "plt.xlabel('Idade')\n",
    "plt.ylabel('Frequência')\n",
    "\n",
    "# Gráfico 3: Mediana por Sexo\n",
    "plt.subplot(2, 2, 3)\n",
    "df2['Idade'].hist(bins=100, color='salmon')\n",
    "plt.title('Idade - Mediana por Sexo')\n",
    "plt.xlabel('Idade')\n",
    "plt.ylabel('Frequência')\n",
    "\n",
    "# Gráfico 4: Média por Classe\n",
    "plt.subplot(2, 2, 4)\n",
    "df3['Idade'].hist(bins=100, color='plum')\n",
    "plt.title('Idade - Média por Classe')\n",
    "plt.xlabel('Idade')\n",
    "plt.ylabel('Frequência')\n",
    "\n",
    "plt.tight_layout()\n",
    "plt.show()"
   ]
  },
  {
   "cell_type": "code",
   "execution_count": 23,
   "id": "198958f2-1738-4bea-9a77-24762361a6fa",
   "metadata": {},
   "outputs": [
    {
     "data": {
      "text/plain": [
       "Sobreviveu\n",
       "Não    0.616162\n",
       "Sim    0.383838\n",
       "Name: proportion, dtype: float64"
      ]
     },
     "execution_count": 23,
     "metadata": {},
     "output_type": "execute_result"
    }
   ],
   "source": [
    "#Verificação da distribuição após mudanças:\n",
    "#Antes:\n",
    "df['Sobreviveu'].value_counts(normalize=True)"
   ]
  },
  {
   "cell_type": "code",
   "execution_count": 24,
   "id": "1484072d-159e-48ed-805f-aa7416d78fef",
   "metadata": {},
   "outputs": [
    {
     "data": {
      "text/plain": [
       "Sobreviveu\n",
       "Não    0.616162\n",
       "Sim    0.383838\n",
       "Name: proportion, dtype: float64"
      ]
     },
     "execution_count": 24,
     "metadata": {},
     "output_type": "execute_result"
    }
   ],
   "source": [
    "#Depois:\n",
    "Titanic_original['Sobreviveu'].value_counts(normalize=True)"
   ]
  },
  {
   "cell_type": "markdown",
   "id": "43f8fd24-12c6-4207-b9eb-8e19d6ce79c4",
   "metadata": {},
   "source": [
    "### Bônus - não satisfeito com o \"Pico Artificial\""
   ]
  },
  {
   "cell_type": "code",
   "execution_count": 25,
   "id": "9109e156-6f3c-40e9-bbda-294d15c81078",
   "metadata": {},
   "outputs": [],
   "source": [
    "#Declaração da tabela sem mudança para a variável df4\n",
    "df4 = Titanic_original.copy()\n",
    "\n",
    "#Tratamento de valores inválidos como numérico e transforma em NaN\n",
    "df4['Idade'] = pd.to_numeric(df4['Idade'], errors='coerce')\n",
    "\n",
    "#Imputação Inteligente (professor): mediana da idade por Sexo, Classe, Portão de Embarque, Sobreviveu, Bilhete\n",
    "medianas = df4.groupby(['Sexo', 'Classe', 'PortãoEmbarque', 'Sobreviveu', 'Bilhete'])['Idade'].median()\n",
    "\n",
    "##Função retorna mediana se vazio, se não continua valor primário\n",
    "def mediana_idade_SexoClassePortaoSobreviveuBilhete(row):\n",
    "    if pd.isnull(row['Idade']):\n",
    "        return medianas.loc[row['Sexo'], row['Classe'], row['PortãoEmbarque'], row['Sobreviveu'], row['Bilhete']]\n",
    "    else:\n",
    "        return row['Idade']\n",
    "\n",
    "#Aplica a função a cada linha (row)\n",
    "df4['Idade'] = df4.apply(mediana_idade_SexoClassePortaoSobreviveuBilhete, axis=1)"
   ]
  },
  {
   "cell_type": "code",
   "execution_count": 26,
   "id": "456cc997-1a69-4b07-8797-c50b939120fa",
   "metadata": {},
   "outputs": [
    {
     "data": {
      "text/plain": [
       "Sexo       Classe     PortãoEmbarque  Sobreviveu  Bilhete          \n",
       "Feminino   1ª Classe  Cherbourg       Não         PC 17595             50.0\n",
       "                                      Sim         11755                48.0\n",
       "                                                  11767                40.0\n",
       "                                                  11813                32.0\n",
       "                                                  11967                19.0\n",
       "                                                                       ... \n",
       "Masculino  3ª Classe  Southampton     Sim         STON/O 2. 3101269    44.0\n",
       "                                                  STON/O 2. 3101285    20.0\n",
       "                                                  STON/O 2. 3101286    32.0\n",
       "                                                  STON/O 2. 3101288    31.0\n",
       "                                                  STON/O 2. 3101289    39.0\n",
       "Name: Idade, Length: 777, dtype: float64"
      ]
     },
     "execution_count": 26,
     "metadata": {},
     "output_type": "execute_result"
    }
   ],
   "source": [
    "df4.groupby(['Sexo', 'Classe', 'PortãoEmbarque', 'Sobreviveu', 'Bilhete'])['Idade'].median()"
   ]
  },
  {
   "cell_type": "code",
   "execution_count": 27,
   "id": "3feb868f-0763-4801-b96c-f8c29e4152ba",
   "metadata": {},
   "outputs": [
    {
     "data": {
      "image/png": "[encoded data removed]",
      "text/plain": [
       "<Figure size 1000x800 with 2 Axes>"
      ]
     },
     "metadata": {},
     "output_type": "display_data"
    }
   ],
   "source": [
    "plt.figure(figsize=(10, 8))\n",
    "\n",
    "# Gráfico 1: Original\n",
    "plt.subplot(1, 2, 1)\n",
    "Titanic_original['Idade'].hist(bins=100, color='skyblue')\n",
    "plt.title('Distribuição original de Idade')\n",
    "plt.xlabel('Idade')\n",
    "plt.ylabel('Frequência')\n",
    "\n",
    "# Gráfico 2: Mediana por Sexo e Classe\n",
    "plt.subplot(1, 2, 2)\n",
    "df4['Idade'].hist(bins=100, color='lightgreen')\n",
    "plt.title('Idade - Mediana por Sexo e Classe')\n",
    "plt.xlabel('Idade')\n",
    "plt.ylabel('Frequência')\n",
    "\n",
    "plt.tight_layout()\n",
    "plt.show()"
   ]
  },
  {
   "cell_type": "code",
   "execution_count": 28,
   "id": "15ff9764-113a-48fa-bf96-6eef63bfbf25",
   "metadata": {},
   "outputs": [
    {
     "data": {
      "text/plain": [
       "IdPassageiro        0\n",
       "Sobreviveu          0\n",
       "Classe              0\n",
       "Nome                0\n",
       "Sexo                0\n",
       "Idade             174\n",
       "ImãosConjuge        0\n",
       "PaisFilhos          0\n",
       "Bilhete             0\n",
       "Tarifa              0\n",
       "Cabine            687\n",
       "PortãoEmbarque      2\n",
       "dtype: int64"
      ]
     },
     "execution_count": 28,
     "metadata": {},
     "output_type": "execute_result"
    }
   ],
   "source": [
    "df4.isnull().sum()"
   ]
  },
  {
   "cell_type": "code",
   "execution_count": 29,
   "id": "2621d852-fb7e-4ad9-982e-2982e89c1417",
   "metadata": {},
   "outputs": [
    {
     "data": {
      "text/plain": [
       "IdPassageiro        0\n",
       "Sobreviveu          0\n",
       "Classe              0\n",
       "Nome                0\n",
       "Sexo                0\n",
       "Idade             185\n",
       "ImãosConjuge        0\n",
       "PaisFilhos          0\n",
       "Bilhete             0\n",
       "Tarifa              0\n",
       "Cabine            687\n",
       "PortãoEmbarque      2\n",
       "dtype: int64"
      ]
     },
     "execution_count": 29,
     "metadata": {},
     "output_type": "execute_result"
    }
   ],
   "source": [
    "Titanic_original.isnull().sum()"
   ]
  },
  {
   "cell_type": "code",
   "execution_count": 30,
   "id": "13ff5316-a57b-4fd6-9f18-57c3a4727773",
   "metadata": {},
   "outputs": [],
   "source": [
    "#Imputação Inteligente (professor): mediana da idade por Sexo, Classe, PortãoEmbarque\n",
    "medianas = df4.groupby(['Sexo', 'Classe', 'PortãoEmbarque'])['Idade'].median()\n",
    "\n",
    "##Função retorna mediana se vazio, se não continua valor primário\n",
    "def mediana_idade_SexoClassePortao(row):\n",
    "    if pd.isnull(row['Idade']):\n",
    "        return medianas.loc[row['Sexo'], row['Classe'], row['PortãoEmbarque']]\n",
    "    else:\n",
    "        return row['Idade']\n",
    "\n",
    "#Aplica a função a cada linha (row)\n",
    "df4['Idade'] = df4.apply(mediana_idade_SexoClassePortao, axis=1)"
   ]
  },
  {
   "cell_type": "code",
   "execution_count": 31,
   "id": "d96802a6-b919-467a-9b13-5a7415abde15",
   "metadata": {},
   "outputs": [
    {
     "data": {
      "text/plain": [
       "IdPassageiro        0\n",
       "Sobreviveu          0\n",
       "Classe              0\n",
       "Nome                0\n",
       "Sexo                0\n",
       "Idade               0\n",
       "ImãosConjuge        0\n",
       "PaisFilhos          0\n",
       "Bilhete             0\n",
       "Tarifa              0\n",
       "Cabine            687\n",
       "PortãoEmbarque      2\n",
       "dtype: int64"
      ]
     },
     "execution_count": 31,
     "metadata": {},
     "output_type": "execute_result"
    }
   ],
   "source": [
    "df4.isnull().sum()"
   ]
  },
  {
   "cell_type": "code",
   "execution_count": 32,
   "id": "934baac2-e390-4efe-99e7-5a45c6562f3d",
   "metadata": {},
   "outputs": [
    {
     "data": {
      "text/plain": [
       "IdPassageiro        0\n",
       "Sobreviveu          0\n",
       "Classe              0\n",
       "Nome                0\n",
       "Sexo                0\n",
       "Idade             185\n",
       "ImãosConjuge        0\n",
       "PaisFilhos          0\n",
       "Bilhete             0\n",
       "Tarifa              0\n",
       "Cabine            687\n",
       "PortãoEmbarque      2\n",
       "dtype: int64"
      ]
     },
     "execution_count": 32,
     "metadata": {},
     "output_type": "execute_result"
    }
   ],
   "source": [
    "Titanic_original.isnull().sum()"
   ]
  },
  {
   "cell_type": "code",
   "execution_count": 33,
   "id": "eb5b10ec-d765-4e17-bd60-38da86ffc1d2",
   "metadata": {},
   "outputs": [
    {
     "data": {
      "image/png": "[encoded data removed]",
      "text/plain": [
       "<Figure size 1000x800 with 2 Axes>"
      ]
     },
     "metadata": {},
     "output_type": "display_data"
    }
   ],
   "source": [
    "plt.figure(figsize=(10, 8))\n",
    "\n",
    "# Gráfico 1: Original\n",
    "plt.subplot(1, 2, 1)\n",
    "Titanic_original['Idade'].hist(bins=100, color='skyblue')\n",
    "plt.title('Distribuição original de Idade')\n",
    "plt.xlabel('Idade')\n",
    "plt.ylabel('Frequência')\n",
    "\n",
    "# Gráfico 2: Medianas condicionais\n",
    "plt.subplot(1, 2, 2)\n",
    "df4['Idade'].hist(bins=100, color='lightgreen')\n",
    "plt.title('Idade - Medianas Condicionais Seguidas')\n",
    "plt.xlabel('Idade')\n",
    "plt.ylabel('Frequência')\n",
    "\n",
    "plt.tight_layout()\n",
    "plt.show()"
   ]
  },
  {
   "cell_type": "code",
   "execution_count": 34,
   "id": "bb6b8541-5e0f-43e8-9866-1420c1449dcd",
   "metadata": {},
   "outputs": [
    {
     "name": "stdout",
     "output_type": "stream",
     "text": [
      "Estatísticas - Titanic Original:\n",
      "count    706.000000\n",
      "mean      29.750949\n",
      "std       14.589877\n",
      "min        0.420000\n",
      "25%       20.000000\n",
      "50%       28.000000\n",
      "75%       38.750000\n",
      "max       80.000000\n",
      "Name: Idade, dtype: float64\n",
      "\n",
      "Moda: [24.0]\n",
      "Variância: 212.8645161193821\n",
      "Desvio padrão: 14.58987717972232\n",
      "Coeficiente de variação: 0.4904003961539046\n",
      "\n",
      "\n",
      "Estatísticas - Titanic pós imputação:\n",
      "count    891.000000\n",
      "mean      29.077071\n",
      "std       13.470111\n",
      "min        0.420000\n",
      "25%       21.000000\n",
      "50%       27.000000\n",
      "75%       36.000000\n",
      "max       80.000000\n",
      "Name: Idade, dtype: float64\n",
      "\n",
      "Moda: [25.0]\n",
      "Variância: 181.44390118488204\n",
      "Desvio padrão: 13.4701114020962\n",
      "Coeficiente de variação: 0.46325544748978637\n"
     ]
    }
   ],
   "source": [
    "#Medidas estatísticas básicas - antes e depois\n",
    "print(\"Estatísticas - Titanic Original:\")\n",
    "print(Titanic_original['Idade'].describe())\n",
    "print(\"\\nModa:\", Titanic_original['Idade'].mode().tolist())\n",
    "print(\"Variância:\", Titanic_original['Idade'].var())\n",
    "print(\"Desvio padrão:\", Titanic_original['Idade'].std())\n",
    "print(\"Coeficiente de variação:\", Titanic_original['Idade'].std() / Titanic_original['Idade'].mean())\n",
    "\n",
    "print(\"\\n\\nEstatísticas - Titanic pós imputação:\")\n",
    "print(df4['Idade'].describe())\n",
    "print(\"\\nModa:\", df4['Idade'].mode().tolist())\n",
    "print(\"Variância:\", df4['Idade'].var())\n",
    "print(\"Desvio padrão:\", df4['Idade'].std())\n",
    "print(\"Coeficiente de variação:\", df4['Idade'].std() / df4['Idade'].mean())"
   ]
  },
  {
   "cell_type": "markdown",
   "id": "e32ab73f-bee1-45bf-9a6e-afd34ca9eac4",
   "metadata": {},
   "source": [
    "## Bônus do Bônus - KNNs"
   ]
  },
  {
   "cell_type": "code",
   "execution_count": 35,
   "id": "39126eac-057b-4313-9ef1-caaa60e32fe6",
   "metadata": {},
   "outputs": [],
   "source": [
    "from sklearn.impute import KNNImputer\n",
    "from sklearn.preprocessing import LabelEncoder\n",
    "\n",
    "def imputar_knn(df, n_neighbors=5):\n",
    "    df_knn = df.copy()\n",
    "    #Selecionar apenas variáveis relevantes para a imputação\n",
    "    features = ['Idade', 'Sexo', 'Classe', 'Tarifa', 'Sobreviveu']\n",
    "    imputer = KNNImputer(n_neighbors=n_neighbors)\n",
    "    df_knn[features] = imputer.fit_transform(df_knn[features])\n",
    "    return df_knn\n",
    "\n",
    "#Criação do dataframe a partir da base Titanic em .xlsx\n",
    "df = pd.read_excel('Titanic.xlsx')\n",
    "\n",
    "#Mudança do nome das colunas\n",
    "df.columns=['IdPassageiro', 'Sobreviveu', 'Classe', 'Nome', 'Sexo', 'Idade', 'ImãosConjuge', 'PaisFilhos', 'Bilhete', 'Tarifa', 'Cabine', 'PortãoEmbarque']\n",
    "\n",
    "#Ajustes nos dados das colunas \"Sexo\", para numérico\n",
    "df['Sexo'] = df['Sexo'].replace({'male': '0','female': '1'})\n",
    "\n",
    "#Ajustes nos dados das colunas \"Sexo\", \"Idade\" e \"Tarifa\", para numérico\n",
    "df['Sexo'] = df['Sexo'].replace({'male': 0,'female': 1})\n",
    "df['Idade'] = pd.to_numeric(df['Idade'], errors='coerce')\n",
    "df['Tarifa'] = pd.to_numeric(df['Tarifa'], errors='coerce')\n",
    "\n",
    "#imputar_knn(df)"
   ]
  },
  {
   "cell_type": "code",
   "execution_count": 36,
   "id": "4f314165-cdb5-42bc-9d80-e4f694afdcf3",
   "metadata": {},
   "outputs": [
    {
     "data": {
      "image/png": "[encoded data removed]",
      "text/plain": [
       "<Figure size 1000x800 with 2 Axes>"
      ]
     },
     "metadata": {},
     "output_type": "display_data"
    }
   ],
   "source": [
    "plt.figure(figsize=(10, 8))\n",
    "\n",
    "# Gráfico 1: Original\n",
    "plt.subplot(1, 2, 1)\n",
    "df4['Idade'].hist(bins=100, color='skyblue')\n",
    "plt.title('Distribuição pós aplicação de medianas condicionais')\n",
    "plt.xlabel('Idade')\n",
    "plt.ylabel('Frequência')\n",
    "\n",
    "# Gráfico 2: Mediana por Sexo e Classe\n",
    "plt.subplot(1, 2, 2)\n",
    "imputar_knn(df)['Idade'].hist(bins=100, color='lightgreen')\n",
    "plt.title('Distribuição pós aplicação de KNNs')\n",
    "plt.xlabel('Idade')\n",
    "plt.ylabel('Frequência')\n",
    "\n",
    "plt.tight_layout()\n",
    "plt.show()"
   ]
  },
  {
   "cell_type": "code",
   "execution_count": 37,
   "id": "cb8188e4-907a-4fa7-8b88-3f32b08ac745",
   "metadata": {},
   "outputs": [
    {
     "data": {
      "text/plain": [
       "IdPassageiro        0\n",
       "Sobreviveu          0\n",
       "Classe              0\n",
       "Nome                0\n",
       "Sexo                0\n",
       "Idade               0\n",
       "ImãosConjuge        0\n",
       "PaisFilhos          0\n",
       "Bilhete             0\n",
       "Tarifa              0\n",
       "Cabine            687\n",
       "PortãoEmbarque      2\n",
       "dtype: int64"
      ]
     },
     "execution_count": 37,
     "metadata": {},
     "output_type": "execute_result"
    }
   ],
   "source": [
    "df4.isnull().sum()"
   ]
  },
  {
   "cell_type": "code",
   "execution_count": 38,
   "id": "a5e6ccc0-9277-47a5-bedc-53f69d0b2697",
   "metadata": {},
   "outputs": [
    {
     "data": {
      "text/plain": [
       "IdPassageiro        0\n",
       "Sobreviveu          0\n",
       "Classe              0\n",
       "Nome                0\n",
       "Sexo                0\n",
       "Idade               0\n",
       "ImãosConjuge        0\n",
       "PaisFilhos          0\n",
       "Bilhete             0\n",
       "Tarifa              0\n",
       "Cabine            687\n",
       "PortãoEmbarque      2\n",
       "dtype: int64"
      ]
     },
     "execution_count": 38,
     "metadata": {},
     "output_type": "execute_result"
    }
   ],
   "source": [
    "imputar_knn(df).isnull().sum()"
   ]
  },
  {
   "cell_type": "code",
   "execution_count": 39,
   "id": "c0ee59aa-220e-46a6-8720-4d8fbe639d49",
   "metadata": {},
   "outputs": [
    {
     "name": "stdout",
     "output_type": "stream",
     "text": [
      "#### Estatísticas - Titanic Original ####\n",
      "count    706.000000\n",
      "mean      29.750949\n",
      "std       14.589877\n",
      "min        0.420000\n",
      "25%       20.000000\n",
      "50%       28.000000\n",
      "75%       38.750000\n",
      "max       80.000000\n",
      "Name: Idade, dtype: float64\n",
      "\n",
      "Moda: [24.0]\n",
      "Variância: 212.8645161193821\n",
      "Desvio padrão: 14.58987717972232\n",
      "Coeficiente de variação: 0.4904003961539046\n",
      "\n",
      "\n",
      "#### Estatísticas - KNN ####\n",
      "count    891.000000\n",
      "mean      29.723652\n",
      "std       13.584673\n",
      "min        0.420000\n",
      "25%       21.000000\n",
      "50%       29.200000\n",
      "75%       36.200000\n",
      "max       80.000000\n",
      "Name: Idade, dtype: float64\n",
      "\n",
      "Moda: [30.4]\n",
      "Variância: 184.54334281364467\n",
      "Desvio padrão: 13.584673084533344\n",
      "Coeficiente de variação: 0.4566131010023506\n",
      "\n",
      "\n",
      "#### Estatísticas - Titanic pós Medianas ####\n",
      "count    891.000000\n",
      "mean      29.077071\n",
      "std       13.470111\n",
      "min        0.420000\n",
      "25%       21.000000\n",
      "50%       27.000000\n",
      "75%       36.000000\n",
      "max       80.000000\n",
      "Name: Idade, dtype: float64\n",
      "\n",
      "Moda: [25.0]\n",
      "Variância: 181.44390118488204\n",
      "Desvio padrão: 13.4701114020962\n",
      "Coeficiente de variação: 0.46325544748978637\n"
     ]
    }
   ],
   "source": [
    "#Medidas estatísticas básicas - antes e depois\n",
    "print(\"#### Estatísticas - Titanic Original ####\")\n",
    "print(Titanic_original['Idade'].describe())\n",
    "print(\"\\nModa:\", Titanic_original['Idade'].mode().tolist())\n",
    "print(\"Variância:\", Titanic_original['Idade'].var())\n",
    "print(\"Desvio padrão:\", Titanic_original['Idade'].std())\n",
    "print(\"Coeficiente de variação:\", Titanic_original['Idade'].std() / Titanic_original['Idade'].mean())\n",
    "\n",
    "print(\"\\n\\n#### Estatísticas - KNN ####\")\n",
    "print(imputar_knn(df)['Idade'].describe())\n",
    "print(\"\\nModa:\", imputar_knn(df)['Idade'].mode().tolist())\n",
    "print(\"Variância:\", imputar_knn(df)['Idade'].var())\n",
    "print(\"Desvio padrão:\", imputar_knn(df)['Idade'].std())\n",
    "print(\"Coeficiente de variação:\", imputar_knn(df)['Idade'].std() / Titanic_original['Idade'].mean())\n",
    "\n",
    "print(\"\\n\\n#### Estatísticas - Titanic pós Medianas ####\")\n",
    "print(df4['Idade'].describe())\n",
    "print(\"\\nModa:\", df4['Idade'].mode().tolist())\n",
    "print(\"Variância:\", df4['Idade'].var())\n",
    "print(\"Desvio padrão:\", df4['Idade'].std())\n",
    "print(\"Coeficiente de variação:\", df4['Idade'].std() / df4['Idade'].mean())"
   ]
  }
 ],
 "metadata": {
  "kernelspec": {
   "display_name": "Python 3 (ipykernel)",
   "language": "python",
   "name": "python3"
  },
  "language_info": {
   "codemirror_mode": {
    "name": "ipython",
    "version": 3
   },
   "file_extension": ".py",
   "mimetype": "text/x-python",
   "name": "python",
   "nbconvert_exporter": "python",
   "pygments_lexer": "ipython3",
   "version": "3.12.7"
  }
 },
 "nbformat": 4,
 "nbformat_minor": 5
}
